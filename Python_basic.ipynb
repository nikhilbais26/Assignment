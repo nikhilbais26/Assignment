{
  "nbformat": 4,
  "nbformat_minor": 0,
  "metadata": {
    "colab": {
      "provenance": []
    },
    "kernelspec": {
      "name": "python3",
      "display_name": "Python 3"
    },
    "language_info": {
      "name": "python"
    }
  },
  "cells": [
    {
      "cell_type": "markdown",
      "source": [
        "Explain the key features of Python that make it a popular choice for programming ?\n",
        "\n",
        "it is an interpreted programming language and Easy to use and learn."
      ],
      "metadata": {
        "id": "Fhvi7xI331Vk"
      }
    },
    {
      "cell_type": "markdown",
      "source": [
        "Describe the role of predefined keywords in Python and provide examples of how they are used in a programming ?\n",
        "\n",
        "Role of predefined keywords in Python is define the syntax of the coding.\n",
        "\n",
        "example -\n"
      ],
      "metadata": {
        "id": "SDhaGbhW7W_c"
      }
    },
    {
      "cell_type": "code",
      "source": [
        "print('hello')"
      ],
      "metadata": {
        "colab": {
          "base_uri": "https://localhost:8080/"
        },
        "id": "_7bVRpSR8lHG",
        "outputId": "ee79fe6f-818e-4529-fec2-edbb2bddef67"
      },
      "execution_count": 4,
      "outputs": [
        {
          "output_type": "stream",
          "name": "stdout",
          "text": [
            "hello\n"
          ]
        }
      ]
    },
    {
      "cell_type": "markdown",
      "source": [
        "Compare and contrast mutable and immutable objects in Python ?\n",
        "\n",
        "\n",
        "Mutable objects are those that allow you to change their value or data in place without affecting the object's identity. In contrast, immutable objects don't allow this kind of operation\n",
        "\n",
        "\n",
        "Example-List, Dictionary, and Sets are examples of mutable data type,\n",
        "      Tuple() are examples of mutable data type\n"
      ],
      "metadata": {
        "id": "fOrpmkjX-ekN"
      }
    },
    {
      "cell_type": "markdown",
      "source": [
        "Discuss the different types of operators in Python and provide examples of how they are used\n",
        "\n",
        "\n",
        "In Python, operators are special symbols or keywords that carry out operations on values and python variables. They serve as a basis for expressions, which are used to modify data and execute computations. Python contains several operators, each with its unique purpose.\n",
        "\n"
      ],
      "metadata": {
        "id": "szNP6t4QBSXu"
      }
    },
    {
      "cell_type": "code",
      "source": [
        "a = 21\n",
        "b = 10\n",
        "# Addition\n",
        "print (\"a + b : \", a + b)\n",
        "# Subtraction\n",
        "print (\"a - b : \", a - b)\n",
        "# Multiplication\n",
        "print (\"a * b : \", a * b)\n",
        "# Division\n",
        "print (\"a / b : \", a / b)\n",
        "# Modulus\n",
        "print (\"a % b : \", a % b)\n",
        "# Exponent\n",
        "print (\"a ** b : \", a ** b)\n",
        "# Floor Division\n",
        "print (\"a // b : \", a // b)\n"
      ],
      "metadata": {
        "colab": {
          "base_uri": "https://localhost:8080/"
        },
        "id": "Z9u-8osiDc5L",
        "outputId": "75c2cbc0-6cb8-4341-ae46-959ebd4f36bc"
      },
      "execution_count": 5,
      "outputs": [
        {
          "output_type": "stream",
          "name": "stdout",
          "text": [
            "a + b :  31\n",
            "a - b :  11\n",
            "a * b :  210\n",
            "a / b :  2.1\n",
            "a % b :  1\n",
            "a ** b :  16679880978201\n",
            "a // b :  2\n"
          ]
        }
      ]
    },
    {
      "cell_type": "markdown",
      "source": [
        "explain the concept of type casting in python with examples?\n",
        "\n",
        "Type Casting is the method to convert the Python variable datatype into a certain data type in order to perform the required operation by users."
      ],
      "metadata": {
        "id": "q8udsq5MGWMD"
      }
    },
    {
      "cell_type": "code",
      "source": [
        "string = \"65\"\n",
        "number = 32\n",
        "\n",
        "# Converting the string into an integer number.\n",
        "string_number = int(string)\n",
        "\n",
        "sum_of_numbers = number + string_number\n",
        "print(\"The Sum of both the numbers is: \", sum_of_numbers)\n",
        "\n"
      ],
      "metadata": {
        "colab": {
          "base_uri": "https://localhost:8080/"
        },
        "id": "KQclAboSHelW",
        "outputId": "33d3ca63-3353-40ba-b791-194bf4410484"
      },
      "execution_count": 6,
      "outputs": [
        {
          "output_type": "stream",
          "name": "stdout",
          "text": [
            "The Sum of both the numbers is:  97\n"
          ]
        }
      ]
    },
    {
      "cell_type": "markdown",
      "source": [
        "How do conditional statements work in Python? Illustrate with examples?\n",
        "\n",
        "Conditional Statements are statements in Python that provide a choice for the control flow based on a condition. It means that the control flow of the Python program will be decided based on the outcome of the condition.\n"
      ],
      "metadata": {
        "id": "97oVbqjmIWx1"
      }
    },
    {
      "cell_type": "code",
      "source": [
        "# if..else statement example\n",
        "x = 3\n",
        "if x == 4:\n",
        "    print(\"Yes\")\n",
        "else:\n",
        "    print(\"No\")\n"
      ],
      "metadata": {
        "colab": {
          "base_uri": "https://localhost:8080/"
        },
        "id": "Crlv1uz9Ix0P",
        "outputId": "511f6c3d-09fe-42a6-df9e-ff76559c4827"
      },
      "execution_count": 7,
      "outputs": [
        {
          "output_type": "stream",
          "name": "stdout",
          "text": [
            "No\n"
          ]
        }
      ]
    },
    {
      "cell_type": "markdown",
      "source": [
        "Describe the different types of loops in Python and their use cases with examples.?\n",
        "\n",
        "To understand the Loop Structures in Python, you need to know that there are 3 Types of Loops in Python, those are:\n",
        "\n",
        "1.Python while loop\n",
        "\n",
        "2.Python for loop\n",
        "\n",
        "3.Python nested loop"
      ],
      "metadata": {
        "id": "GL4-Rdc3JMiJ"
      }
    },
    {
      "cell_type": "code",
      "source": [
        "count = 0\n",
        "while (count < 10):\n",
        " print ('The count is:', count)\n",
        " count = count + 1\n",
        "print (\"Good bye!\")\n"
      ],
      "metadata": {
        "colab": {
          "base_uri": "https://localhost:8080/"
        },
        "id": "UtsW7JETJlVF",
        "outputId": "1c794ae2-0510-4df2-bd2b-520786958df8"
      },
      "execution_count": 8,
      "outputs": [
        {
          "output_type": "stream",
          "name": "stdout",
          "text": [
            "The count is: 0\n",
            "The count is: 1\n",
            "The count is: 2\n",
            "The count is: 3\n",
            "The count is: 4\n",
            "The count is: 5\n",
            "The count is: 6\n",
            "The count is: 7\n",
            "The count is: 8\n",
            "The count is: 9\n",
            "Good bye!\n"
          ]
        }
      ]
    },
    {
      "cell_type": "code",
      "source": [
        "for letter in 'Python': # First Example\n",
        " print ('Current Letter :', letter)\n",
        "fruits = ['guava', 'apple', 'mango']\n",
        "for fruit in fruits: # Second Example\n",
        " print ('Current fruit :', fruit)\n",
        "print (\"Good bye!\")\n"
      ],
      "metadata": {
        "colab": {
          "base_uri": "https://localhost:8080/"
        },
        "id": "ziwDlgeIJrbw",
        "outputId": "ac495795-056f-48d3-b06d-5146e6b2b82f"
      },
      "execution_count": 9,
      "outputs": [
        {
          "output_type": "stream",
          "name": "stdout",
          "text": [
            "Current Letter : P\n",
            "Current Letter : y\n",
            "Current Letter : t\n",
            "Current Letter : h\n",
            "Current Letter : o\n",
            "Current Letter : n\n",
            "Current fruit : guava\n",
            "Current fruit : apple\n",
            "Current fruit : mango\n",
            "Good bye!\n"
          ]
        }
      ]
    },
    {
      "cell_type": "code",
      "source": [
        "i = 2\n",
        "while(i < 100):\n",
        " j = 2\n",
        " while(j <= (i/j)):\n",
        "   if not(i%j): break\n",
        "   j = j + 1\n",
        " if (j > i/j) : print (i, \" is prime\")\n",
        " i = i + 1\n",
        "print (\"Good bye!\")\n"
      ],
      "metadata": {
        "colab": {
          "base_uri": "https://localhost:8080/"
        },
        "id": "10dhOwpTJ2X9",
        "outputId": "c7c8e5f9-94b0-43a1-829f-b020fa9614ae"
      },
      "execution_count": 10,
      "outputs": [
        {
          "output_type": "stream",
          "name": "stdout",
          "text": [
            "2  is prime\n",
            "3  is prime\n",
            "5  is prime\n",
            "7  is prime\n",
            "11  is prime\n",
            "13  is prime\n",
            "17  is prime\n",
            "19  is prime\n",
            "23  is prime\n",
            "29  is prime\n",
            "31  is prime\n",
            "37  is prime\n",
            "41  is prime\n",
            "43  is prime\n",
            "47  is prime\n",
            "53  is prime\n",
            "59  is prime\n",
            "61  is prime\n",
            "67  is prime\n",
            "71  is prime\n",
            "73  is prime\n",
            "79  is prime\n",
            "83  is prime\n",
            "89  is prime\n",
            "97  is prime\n",
            "Good bye!\n"
          ]
        }
      ]
    }
  ]
}